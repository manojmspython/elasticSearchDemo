{
 "cells": [
  {
   "cell_type": "markdown",
   "metadata": {},
   "source": [
    "## Installing python client\n",
    "\n",
    "```pip install elasticsearch```"
   ]
  },
  {
   "cell_type": "markdown",
   "metadata": {},
   "source": [
    "### Importing packages"
   ]
  },
  {
   "cell_type": "code",
   "execution_count": null,
   "metadata": {},
   "outputs": [],
   "source": [
    "# Import packages\n",
    "\n",
    "from elasticsearch import Elasticsearch"
   ]
  },
  {
   "cell_type": "markdown",
   "metadata": {},
   "source": [
    "### Configurating ElasticSearch"
   ]
  },
  {
   "cell_type": "code",
   "execution_count": null,
   "metadata": {},
   "outputs": [],
   "source": [
    "# Elastic search configuation\n",
    "# Assuming elastic search is locally installed in your machine else install from https://www.elastic.co/downloads/elasticsearch\n",
    "\n",
    "es = Elasticsearch(HOST=\"http://localhost\", PORT=9200)\n",
    "es = Elasticsearch()"
   ]
  },
  {
   "cell_type": "markdown",
   "metadata": {},
   "source": [
    "### Creating an index"
   ]
  },
  {
   "cell_type": "code",
   "execution_count": null,
   "metadata": {},
   "outputs": [],
   "source": [
    "# Creating index\n",
    "\n",
    "es.indices.create(index=\"first_index\")"
   ]
  },
  {
   "cell_type": "code",
   "execution_count": null,
   "metadata": {
    "scrolled": true
   },
   "outputs": [],
   "source": [
    "# Looking if the index exists\n",
    "\n",
    "es.indices.exists(index=\"first_index\")"
   ]
  },
  {
   "cell_type": "markdown",
   "metadata": {},
   "source": [
    "### Deleting an index"
   ]
  },
  {
   "cell_type": "code",
   "execution_count": null,
   "metadata": {},
   "outputs": [],
   "source": [
    "# Delete index\n",
    "# it would throw if a index doesnt exist\n",
    "es.indices.delete(index=\"first_index\")"
   ]
  },
  {
   "cell_type": "code",
   "execution_count": null,
   "metadata": {},
   "outputs": [],
   "source": [
    "es.indices.exists(index=\"first_index\")"
   ]
  },
  {
   "cell_type": "markdown",
   "metadata": {},
   "source": [
    "### Inserting and getting data"
   ]
  },
  {
   "cell_type": "code",
   "execution_count": null,
   "metadata": {
    "scrolled": true
   },
   "outputs": [],
   "source": [
    "# Inserting data\n",
    "\n",
    "doc_1 = {\"city\": \"Paris\", \"country\": \"France\"}\n",
    "doc_2 = {\"city\": \"Vienna\", \"country\": \"Austria\"}\n",
    "doc_3 = {\"city\": \"London\", \"country\": \"England\"}\n",
    "\n",
    "es.index(index=\"cities\", doc_type=\"places\", id=1, body=doc_1)"
   ]
  },
  {
   "cell_type": "code",
   "execution_count": null,
   "metadata": {},
   "outputs": [],
   "source": [
    "es.index(index=\"cities\", doc_type=\"places\", id=2, body=doc_2)"
   ]
  },
  {
   "cell_type": "code",
   "execution_count": null,
   "metadata": {},
   "outputs": [],
   "source": [
    "es.index(index=\"cities\", doc_type=\"places\", id=3, body=doc_3)"
   ]
  },
  {
   "cell_type": "code",
   "execution_count": null,
   "metadata": {},
   "outputs": [],
   "source": [
    "# Getting the data\n",
    "\n",
    "res = es.get(index=\"cities\", doc_type=\"places\", id=1)\n",
    "\n",
    "res"
   ]
  },
  {
   "cell_type": "code",
   "execution_count": null,
   "metadata": {},
   "outputs": [],
   "source": [
    "# Get the data which is present in the _source key\n",
    "\n",
    "res[\"_source\"]"
   ]
  },
  {
   "cell_type": "markdown",
   "metadata": {},
   "source": [
    "### Search query and matching documents"
   ]
  },
  {
   "cell_type": "code",
   "execution_count": null,
   "metadata": {},
   "outputs": [],
   "source": [
    "# Creating our data\n",
    "\n",
    "doc_1 = {\"sentence\":\"Hack COVID-19 is amazing!\"}\n",
    "doc_2 = {\"sentence\":\"Hack-Quarantine is stunning!\"}\n",
    "\n",
    "es.index(index=\"english\", doc_type=\"sentences\", id=1, body=doc_1)\n",
    "es.index(index=\"english\", doc_type=\"sentences\", id=2, body=doc_2)\n",
    "es.index(index=\"english\", doc_type=\"sentences\", body=doc_2)"
   ]
  },
  {
   "cell_type": "code",
   "execution_count": null,
   "metadata": {},
   "outputs": [],
   "source": [
    "# Creating our query\n",
    "\n",
    "## Match query \n",
    "\n",
    "body = {\n",
    "    \"from\":0,\n",
    "    \"size\":0,\n",
    "    \"query\": {\n",
    "        \"match\": {\n",
    "            \"sentence\":\"Hack\"\n",
    "        }\n",
    "    }\n",
    "}\n",
    "\n",
    "res = es.search(index=\"english\", body=body)\n",
    "res"
   ]
  },
  {
   "cell_type": "code",
   "execution_count": null,
   "metadata": {},
   "outputs": [],
   "source": [
    "body = {\n",
    "    \"from\":0,\n",
    "    \"size\":2,\n",
    "    \"query\": {\n",
    "        \"match\": {\n",
    "            \"sentence\":\"Hack\"\n",
    "        }\n",
    "    }\n",
    "}\n",
    "\n",
    "res = es.search(index=\"english\", body=body)\n",
    "res"
   ]
  },
  {
   "cell_type": "code",
   "execution_count": null,
   "metadata": {},
   "outputs": [],
   "source": [
    "body = {\n",
    "    \"from\":0,\n",
    "    \"size\":2,\n",
    "    \"query\": {\n",
    "        \"match\": {\n",
    "            \"sentence\":\"Hack Quarantine\"\n",
    "        }\n",
    "    }\n",
    "}\n",
    "\n",
    "res = es.search(index=\"english\", body=body)\n",
    "res"
   ]
  },
  {
   "cell_type": "code",
   "execution_count": null,
   "metadata": {
    "scrolled": true
   },
   "outputs": [],
   "source": [
    "# match_phrase \n",
    "\n",
    "body = {\n",
    "    \"from\":0,\n",
    "    \"size\":1,\n",
    "    \"query\": {\n",
    "        \"match_phrase\": {\n",
    "            \"sentence\":\"Hack Quarantine\"\n",
    "        }\n",
    "    }\n",
    "}\n",
    "\n",
    "res = es.search(index=\"english\", body=body)\n",
    "res"
   ]
  },
  {
   "cell_type": "markdown",
   "metadata": {},
   "source": [
    "### Combining queries"
   ]
  },
  {
   "cell_type": "code",
   "execution_count": null,
   "metadata": {
    "scrolled": true
   },
   "outputs": [],
   "source": [
    "# must, must_not and should\n",
    " \n",
    "body = {\n",
    "    \"from\":0,\n",
    "    \"size\":2,\n",
    "    \"query\": {\n",
    "        \"bool\": {\n",
    "            \"must_not\": {\n",
    "                \"match\": {\n",
    "                    \"sentence\":\"COVID-19\"\n",
    "                }\n",
    "            },\n",
    "            \"should\": {\n",
    "                \"match\": {\n",
    "                    \"sentence\": \"Hack\"\n",
    "                }\n",
    "            }\n",
    "        }\n",
    "    }\n",
    "}\n",
    "\n",
    "res = es.search(index=\"english\", body=body)\n",
    "res"
   ]
  },
  {
   "cell_type": "markdown",
   "metadata": {},
   "source": [
    "### Regular Expressions Queries"
   ]
  },
  {
   "cell_type": "code",
   "execution_count": null,
   "metadata": {},
   "outputs": [],
   "source": [
    "# Updating our data\n",
    "\n",
    "doc_1 = {\"sentence\":\"Hack COVID-19 is amazing!\"}\n",
    "doc_2 = {\"sentence\":\"Hack-Quarantine is stunning!\"}\n",
    "doc_3 = {\"sentence\":\"Hack nCov is great!\"}\n",
    "\n",
    "es.index(index=\"english\", doc_type=\"sentences\", id=1, body=doc_1)"
   ]
  },
  {
   "cell_type": "code",
   "execution_count": null,
   "metadata": {},
   "outputs": [],
   "source": [
    "es.index(index=\"english\", doc_type=\"sentences\", id=2, body=doc_2)"
   ]
  },
  {
   "cell_type": "code",
   "execution_count": null,
   "metadata": {
    "scrolled": true
   },
   "outputs": [],
   "source": [
    "es.index(index=\"english\", doc_type=\"sentences\", id=3, body=doc_3)"
   ]
  },
  {
   "cell_type": "code",
   "execution_count": null,
   "metadata": {
    "scrolled": true
   },
   "outputs": [],
   "source": [
    "# regexp query\n",
    "\n",
    "body = {\n",
    "    \"from\":0,\n",
    "    \"size\":3,\n",
    "    \"query\": {\n",
    "        \"regexp\": {\n",
    "            \"sentence\":\".*\"\n",
    "        }\n",
    "    }\n",
    "}\n",
    "\n",
    "res = es.search(index=\"english\", body=body)\n",
    "res"
   ]
  }
 ],
 "metadata": {
  "kernelspec": {
   "display_name": "Python 3",
   "language": "python",
   "name": "python3"
  },
  "language_info": {
   "codemirror_mode": {
    "name": "ipython",
    "version": 3
   },
   "file_extension": ".py",
   "mimetype": "text/x-python",
   "name": "python",
   "nbconvert_exporter": "python",
   "pygments_lexer": "ipython3",
   "version": "3.8.3"
  }
 },
 "nbformat": 4,
 "nbformat_minor": 2
}
